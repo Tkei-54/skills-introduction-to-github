{
  "nbformat": 4,
  "nbformat_minor": 0,
  "metadata": {
    "colab": {
      "provenance": [],
      "authorship_tag": "ABX9TyM8syWB/yAcsNpIoRMmjySV",
      "include_colab_link": true
    },
    "kernelspec": {
      "name": "python3",
      "display_name": "Python 3"
    },
    "language_info": {
      "name": "python"
    }
  },
  "cells": [
    {
      "cell_type": "markdown",
      "metadata": {
        "id": "view-in-github",
        "colab_type": "text"
      },
      "source": [
        "<a href=\"https://colab.research.google.com/github/Tkei-54/skills-introduction-to-github/blob/main/Keith_Experiments.ipynb\" target=\"_parent\"><img src=\"https://colab.research.google.com/assets/colab-badge.svg\" alt=\"Open In Colab\"/></a>"
      ]
    },
    {
      "cell_type": "code",
      "execution_count": null,
      "metadata": {
        "id": "nRffbcAP4kES",
        "colab": {
          "base_uri": "https://localhost:8080/"
        },
        "outputId": "390433d8-0eee-4ee9-adc3-271b2e6d3f6c"
      },
      "outputs": [
        {
          "output_type": "stream",
          "name": "stdout",
          "text": [
            "I like burgers\n"
          ]
        }
      ],
      "source": [
        "# 4/3/25\n",
        "print(\"I like burgers\")"
      ]
    },
    {
      "cell_type": "code",
      "source": [
        "print(\"It's really good!\")"
      ],
      "metadata": {
        "colab": {
          "base_uri": "https://localhost:8080/"
        },
        "id": "rmAoZUlvI-b0",
        "outputId": "eb856a7e-4da7-4458-df12-18d503a7be96"
      },
      "execution_count": null,
      "outputs": [
        {
          "output_type": "stream",
          "name": "stdout",
          "text": [
            "It's really good!\n"
          ]
        }
      ]
    },
    {
      "cell_type": "code",
      "source": [
        "#These are strings\n",
        "first_name = \"Keith\"\n",
        "food = \"burgers\"\n",
        "email = \"keithtongi54@gmail.com\"\n",
        "print(first_name)\n",
        "print (f\"Hello {first_name}\")\n",
        "print(f\"I like {food}\")\n",
        "print(f\"My email is {email}\")"
      ],
      "metadata": {
        "colab": {
          "base_uri": "https://localhost:8080/"
        },
        "id": "Sz62gNxhJFfV",
        "outputId": "84efafb3-0cba-4dca-ecec-1017f5c2ccfa"
      },
      "execution_count": null,
      "outputs": [
        {
          "output_type": "stream",
          "name": "stdout",
          "text": [
            "Keith\n",
            "Hello Keith\n",
            "I like burgers\n",
            "My email is keithtongi54@gmail.com\n"
          ]
        }
      ]
    },
    {
      "cell_type": "code",
      "source": [
        "# These are integers\n",
        "age = 27\n",
        "quantity = 3\n",
        "number_of_children = 1\n",
        "print (f\"I am {age} years old\")\n",
        "print (f\"I am buying {quantity} pairs of glasses\")\n",
        "print (f\"She has {number_of_children} child\")"
      ],
      "metadata": {
        "colab": {
          "base_uri": "https://localhost:8080/"
        },
        "id": "vK-5PhgZJip-",
        "outputId": "46b5ade9-66d3-4f61-94a7-8d0d0299669d"
      },
      "execution_count": null,
      "outputs": [
        {
          "output_type": "stream",
          "name": "stdout",
          "text": [
            "I am 27 years old\n",
            "I am buying 3 pairs of glasses\n",
            "She has 1 child\n"
          ]
        }
      ]
    },
    {
      "cell_type": "code",
      "source": [
        "# These are floats\n",
        "price = 120.25\n",
        "gpa = 3.8\n",
        "distance = 350.8\n",
        "print (f\"The price of the watermelon is KES {price}\")\n",
        "print (f\"I can get the Schwarzman scholarship to Tsinghua despite a gpa of {gpa}\")\n",
        "print (f\"Kisii is {distance} kilometres from Nairobi\")"
      ],
      "metadata": {
        "colab": {
          "base_uri": "https://localhost:8080/"
        },
        "id": "0Ipr41uvLLWm",
        "outputId": "4f3a1d92-9c94-4360-889e-82d7ee07db8f"
      },
      "execution_count": null,
      "outputs": [
        {
          "output_type": "stream",
          "name": "stdout",
          "text": [
            "The price of the watermelon is KES 120.25\n",
            "I can get the Schwarzman scholarship to Tsinghua despite a gpa of 3.8\n",
            "Kisii is 350.8 kilometres from Nairobi\n"
          ]
        }
      ]
    },
    {
      "cell_type": "code",
      "source": [
        "# These are booleans\n",
        "is_student = True\n",
        "for_sale = True\n",
        "is_hungry = True\n",
        "print(f\"Are you a student? {is_student}\")\n",
        "if for_sale:\n",
        "    print(\"This item is for sale\")\n",
        "else:\n",
        "    print(\"This item is not for sale\")\n",
        "print(f\"Are you hungry? {is_hungry}\")"
      ],
      "metadata": {
        "colab": {
          "base_uri": "https://localhost:8080/"
        },
        "id": "D_UbAscLMKAB",
        "outputId": "669e713f-bc45-48b2-82e6-f6aee447b274"
      },
      "execution_count": null,
      "outputs": [
        {
          "output_type": "stream",
          "name": "stdout",
          "text": [
            "Are you a student? True\n",
            "This item is for sale\n",
            "Are you hungry? True\n"
          ]
        }
      ]
    },
    {
      "cell_type": "code",
      "source": [
        "# Typecasting\n",
        "name = \"Keith Tongi\"\n",
        "age = 27\n",
        "gpa = 3.2\n",
        "is_student = True\n",
        "\n",
        "gpa = int(gpa)\n",
        "print(gpa)\n",
        "age = float(age)\n",
        "print(age)\n",
        "is_student = str(is_student)\n",
        "print(is_student)\n",
        "name = bool(name)\n",
        "print(name)"
      ],
      "metadata": {
        "colab": {
          "base_uri": "https://localhost:8080/"
        },
        "id": "-PJ7inJbM5O3",
        "outputId": "8a3d4cdf-95a6-4911-ac40-df3b439929b0"
      },
      "execution_count": null,
      "outputs": [
        {
          "output_type": "stream",
          "name": "stdout",
          "text": [
            "3\n",
            "27.0\n",
            "True\n",
            "True\n"
          ]
        }
      ]
    },
    {
      "cell_type": "code",
      "source": [
        "#Input\n",
        "name = input(\"What is your name? \")\n",
        "print(f\"Hello {name}\")\n",
        "age = int(input(\"How old are you? \"))\n",
        "print (\"Happy birthday!\")\n",
        "print(f\"You are {age} years old\")\n",
        "print(f\"Next year, you will be {age + 1} years old\")"
      ],
      "metadata": {
        "colab": {
          "base_uri": "https://localhost:8080/"
        },
        "id": "8Wu2-dRFevVn",
        "outputId": "7e2a1aed-61bc-4231-92c8-d03b49b9c463"
      },
      "execution_count": null,
      "outputs": [
        {
          "output_type": "stream",
          "name": "stdout",
          "text": [
            "What is your name? Keith\n",
            "Hello Keith\n",
            "How old are you? 27\n",
            "Happy birthday!\n",
            "You are 27 years old\n",
            "Next year, you will be 28 years old\n"
          ]
        }
      ]
    },
    {
      "cell_type": "code",
      "source": [
        "#Area of a rectangle\n",
        "length = float(input(\"What is the length of the rectangle? \"))\n",
        "width = float(input(\"What is the width of the rectangle? \"))\n",
        "area = length * width\n",
        "print(f\"The area of the rectangle is {area}\")\n"
      ],
      "metadata": {
        "colab": {
          "base_uri": "https://localhost:8080/"
        },
        "id": "g8I-f9_UgRHm",
        "outputId": "db6276a9-2374-49e4-905a-72d1022b0c78"
      },
      "execution_count": null,
      "outputs": [
        {
          "output_type": "stream",
          "name": "stdout",
          "text": [
            "What is the length of the rectangle? 6.7\n",
            "What is the width of the rectangle? 7.9\n",
            "The area of the rectangle is 52.93000000000001\n"
          ]
        }
      ]
    },
    {
      "cell_type": "code",
      "source": [
        "# Shopping cart program\n",
        "item = input(\"What item would you like to buy? \")\n",
        "price = float(input(\"What is the price of the item? \"))\n",
        "quantity = int(input(\"How many would you like to buy? \"))\n",
        "total = price * quantity\n",
        "print(f\"You have bought {quantity} x {item} for KES {total}\")"
      ],
      "metadata": {
        "colab": {
          "base_uri": "https://localhost:8080/"
        },
        "id": "nL9SB9QfieZV",
        "outputId": "b48e7834-e5bc-4cd9-bba3-cf239b7b9d34"
      },
      "execution_count": null,
      "outputs": [
        {
          "output_type": "stream",
          "name": "stdout",
          "text": [
            "What item would you like to buy? bouquet of flowers for Loise Lane\n",
            "What is the price of the item? 1000\n",
            "How many would you like to buy? 1\n",
            "You have bought 1 x bouquet of flowers for Loise Lane for KES 1000.0\n"
          ]
        }
      ]
    },
    {
      "cell_type": "code",
      "source": [
        "#Madlibs Game\n",
        "adjective1 = input(\"Enter an adjective: \")\n",
        "noun1 = input(\"Enter a noun: \")\n",
        "adjective2 = input(\"Enter another adjective: \")\n",
        "print(f\"On Saturday I went to an {adjective1} restaurant with {noun1}\")\n",
        "print(f\"In the restaurant, the menu had {adjective2} prices\")\n",
        "print(f\"I'm kinda glad {noun1} was feeling unwell because i thought the bill would be crazy\")\n",
        "print(f\"I know i shouldn't be happy, but i was\")"
      ],
      "metadata": {
        "colab": {
          "base_uri": "https://localhost:8080/"
        },
        "id": "3NQb3kz3kYw-",
        "outputId": "0b537718-c5cc-47be-f883-944c6e835f68"
      },
      "execution_count": null,
      "outputs": [
        {
          "output_type": "stream",
          "name": "stdout",
          "text": [
            "Enter an adjective: expensive\n",
            "Enter a noun: Loise Lane\n",
            "Enter another adjective: crazy\n",
            "On Saturday I went to an expensive restaurant with Loise Lane\n",
            "In the restaurant, the menu had crazy prices\n",
            "I'm kinda glad Loise Lane was feeling unwell because i thought the bill would be crazy\n",
            "I know i shouldn't be happy, but i was\n"
          ]
        }
      ]
    },
    {
      "cell_type": "code",
      "source": [
        "#basic arithmetic operators\n",
        "friends = 10\n",
        "friends += 1\n",
        "print (friends)\n",
        "friends -= 2\n",
        "print (friends)\n",
        "friends *= 3\n",
        "print (friends)\n",
        "friends /= 2\n",
        "print (friends)\n",
        "friends **= 2\n",
        "print (friends)\n",
        "friends //= 2\n",
        "print (friends)\n",
        "friends %= 2\n",
        "print (friends)"
      ],
      "metadata": {
        "colab": {
          "base_uri": "https://localhost:8080/"
        },
        "id": "JgF6KY--oE-Q",
        "outputId": "d894c524-51e9-45c7-c230-88180807e2b4"
      },
      "execution_count": null,
      "outputs": [
        {
          "output_type": "stream",
          "name": "stdout",
          "text": [
            "11\n",
            "9\n",
            "27\n",
            "13.5\n",
            "182.25\n",
            "91.0\n",
            "1.0\n"
          ]
        }
      ]
    },
    {
      "cell_type": "code",
      "source": [
        "#built in mathematical functions\n",
        "x = 3.14\n",
        "y = 4\n",
        "z = 5\n",
        "print(round(x))\n",
        "print(abs(x))\n",
        "print(pow(y,z))\n",
        "print(max(x,y,z))\n",
        "print(min(x,y,z))"
      ],
      "metadata": {
        "colab": {
          "base_uri": "https://localhost:8080/"
        },
        "id": "6040FFOwspwN",
        "outputId": "9690a36b-09ec-40b4-a01c-f2ba6bc1b518"
      },
      "execution_count": null,
      "outputs": [
        {
          "output_type": "stream",
          "name": "stdout",
          "text": [
            "3\n",
            "3.14\n",
            "1024\n",
            "5\n",
            "3.14\n"
          ]
        }
      ]
    },
    {
      "cell_type": "code",
      "source": [
        "import math"
      ],
      "metadata": {
        "id": "Evv8Z7eBr15p"
      },
      "execution_count": null,
      "outputs": []
    },
    {
      "cell_type": "code",
      "source": [
        "print (math.pi)\n",
        "print(math.e)\n",
        "x = 9\n",
        "result = math.sqrt(x)\n",
        "print (result)"
      ],
      "metadata": {
        "colab": {
          "base_uri": "https://localhost:8080/"
        },
        "id": "r7Hm1YnqtaBz",
        "outputId": "725d951a-2e9f-4eaa-ec82-5e96c51f5dae"
      },
      "execution_count": null,
      "outputs": [
        {
          "output_type": "stream",
          "name": "stdout",
          "text": [
            "3.141592653589793\n",
            "2.718281828459045\n",
            "3.0\n"
          ]
        }
      ]
    },
    {
      "cell_type": "code",
      "source": [
        "radius = float(input(\"What is the radius of the circle? \"))\n",
        "area = math.pi * (radius ** 2)\n",
        "print(f\"The area of the circle is {area}\")\n",
        "circumference = 2 * math.pi * radius\n",
        "print(f\"The circumference of the circle is {circumference}\")"
      ],
      "metadata": {
        "colab": {
          "base_uri": "https://localhost:8080/"
        },
        "id": "SJYZePhYt10Z",
        "outputId": "4e2196f3-8312-414d-87bd-521854c102c7"
      },
      "execution_count": null,
      "outputs": [
        {
          "output_type": "stream",
          "name": "stdout",
          "text": [
            "What is the radius of the circle? 14\n",
            "The area of the circle is 615.7521601035994\n",
            "The circumference of the circle is 87.96459430051421\n"
          ]
        }
      ]
    },
    {
      "cell_type": "code",
      "source": [
        "a = float(input(\"Enter side A\"))\n",
        "b = float(input(\"Enter side B\"))\n",
        "c = math.sqrt(a**2 + b**2)\n",
        "print(f\"The hypotenuse of the triangle is {c} cm\")"
      ],
      "metadata": {
        "colab": {
          "base_uri": "https://localhost:8080/"
        },
        "id": "xvxMleiCupuB",
        "outputId": "b3e8edf7-b4c1-4c72-bd99-8619051e0419"
      },
      "execution_count": null,
      "outputs": [
        {
          "output_type": "stream",
          "name": "stdout",
          "text": [
            "Enter side A3\n",
            "Enter side B4\n",
            "The hypotenuse of the triangle is 5.0 cm\n"
          ]
        }
      ]
    },
    {
      "cell_type": "code",
      "source": [
        "# Control flows elif and if statements\n",
        "age = float(input(\"How old are you? \"))\n",
        "if age >= 28:\n",
        "    print(\"You are a millenial\")\n",
        "elif age >= 15:\n",
        "    print(\"You are a Gen Z\")\n",
        "else:\n",
        "    print(\"You are a child\")"
      ],
      "metadata": {
        "colab": {
          "base_uri": "https://localhost:8080/"
        },
        "id": "u2nBiNQHvGtC",
        "outputId": "4309d3ab-9e1c-49f6-e08c-c21d1c18694b"
      },
      "execution_count": null,
      "outputs": [
        {
          "output_type": "stream",
          "name": "stdout",
          "text": [
            "How old are you? 27\n",
            "You are a Gen Z\n"
          ]
        }
      ]
    },
    {
      "cell_type": "code",
      "source": [
        "response = input(\"Would you like some nyama choma? (Y/N):\")\n",
        "if response == \"Y\":\n",
        "    print(\"Have some nyama choma\")\n",
        "else:\n",
        "    print(\"Cuddle with your man\")\n"
      ],
      "metadata": {
        "colab": {
          "base_uri": "https://localhost:8080/"
        },
        "id": "DgzNUwpJwelR",
        "outputId": "332fb4f2-c5d7-4b56-d26b-b210a31928d6"
      },
      "execution_count": null,
      "outputs": [
        {
          "output_type": "stream",
          "name": "stdout",
          "text": [
            "Would you like some nyama choma? (Y/N):N\n",
            "Cuddle with your man\n"
          ]
        }
      ]
    },
    {
      "cell_type": "code",
      "source": [
        "for_sale = False\n",
        "if for_sale:\n",
        "  print (\"This item is for sale\")\n",
        "else:\n",
        "  print (\"This item is not for sale\")"
      ],
      "metadata": {
        "colab": {
          "base_uri": "https://localhost:8080/"
        },
        "id": "bww_veoXz22w",
        "outputId": "80fe3aa9-f0de-4a8e-a3bb-c5ad9a1b4512"
      },
      "execution_count": null,
      "outputs": [
        {
          "output_type": "stream",
          "name": "stdout",
          "text": [
            "This item is not for sale\n"
          ]
        }
      ]
    },
    {
      "cell_type": "code",
      "source": [
        "#python calculator\n",
        "operator = input(\"Enter an operator (+, -, *, /): \")\n",
        "num1 = float(input(\"Enter the first number: \"))\n",
        "num2 = float(input(\"Enter the second number: \"))\n",
        "if operator == \"+\":\n",
        "    print(num1 + num2)\n",
        "elif operator == \"-\":\n",
        "    print(num1 - num2)\n",
        "elif operator == \"*\":\n",
        "    print(num1 * num2)\n",
        "elif operator == \"/\":\n",
        "  print(num1 / num2)\n",
        "else:\n",
        "  print(\"Invalid operator\")"
      ],
      "metadata": {
        "colab": {
          "base_uri": "https://localhost:8080/"
        },
        "id": "B6hBN7WH0hrA",
        "outputId": "59f1065d-59fb-4468-f476-21805f76ea49"
      },
      "execution_count": null,
      "outputs": [
        {
          "output_type": "stream",
          "name": "stdout",
          "text": [
            "Enter an operator (+, -, *, /): **\n",
            "Enter the first number: 5\n",
            "Enter the second number: 4\n",
            "Invalid operator\n"
          ]
        }
      ]
    },
    {
      "cell_type": "code",
      "source": [
        "#python weight converter\n",
        "weight = float(input(\"Enter your weight: \"))\n",
        "unit = input(\"Enter the unit of measurement (L/K): \")\n",
        "if unit == \"L\":\n",
        "    print(f\"Your weight in kilograms is {weight * 0.45}\")\n",
        "elif unit == \"K\":\n",
        "    print(f\"Your weight in pounds is {weight * 2.20}\")\n",
        "else:\n",
        "  print (\"Invalid unit of measurement\")"
      ],
      "metadata": {
        "colab": {
          "base_uri": "https://localhost:8080/"
        },
        "id": "TybTrWpR2BKx",
        "outputId": "c431223c-c384-448e-ed2c-4f98150e57e4"
      },
      "execution_count": null,
      "outputs": [
        {
          "output_type": "stream",
          "name": "stdout",
          "text": [
            "Enter your weight: 68.5\n",
            "Enter the unit of measurement (L/K): K\n",
            "Your weight in pounds is 150.70000000000002\n"
          ]
        }
      ]
    },
    {
      "cell_type": "code",
      "source": [
        "#python temperature converter\n",
        "unit = input(\"Enter the unit of measurement (C/F): \")\n",
        "if unit == \"C\":\n",
        "    temp = float(input(\"Enter the temperature in Celsius: \"))\n",
        "    print(f\"The temperature in Fahrenheit is {temp * 9/5 + 32}\")\n",
        "elif unit == \"F\":\n",
        "    temp = float(input(\"Enter the temperature in Fahrenheit: \"))\n",
        "    print(f\"The temperature in Celsius is {(temp - 32) * 5/9}\")\n",
        "else:\n",
        "  print (\"Invalid unit of measurement\")"
      ],
      "metadata": {
        "colab": {
          "base_uri": "https://localhost:8080/"
        },
        "id": "X9Jyf0Sd3DVV",
        "outputId": "94c540bd-7bbe-4109-d417-aa433b1282ec"
      },
      "execution_count": null,
      "outputs": [
        {
          "output_type": "stream",
          "name": "stdout",
          "text": [
            "Enter the unit of measurement (C/F): F\n",
            "Enter the temperature in Fahrenheit: 98\n",
            "The temperature in Celsius is 36.666666666666664\n"
          ]
        }
      ]
    },
    {
      "cell_type": "code",
      "source": [
        "#Logical Operators\n"
      ],
      "metadata": {
        "id": "rqDHERE24A5f"
      },
      "execution_count": null,
      "outputs": []
    }
  ]
}